{
  "nbformat": 4,
  "nbformat_minor": 0,
  "metadata": {
    "colab": {
      "name": "TestEquation.ipynb",
      "provenance": [],
      "collapsed_sections": []
    },
    "kernelspec": {
      "name": "python3",
      "display_name": "Python 3"
    },
    "language_info": {
      "name": "python"
    },
    "accelerator": "GPU"
  },
  "cells": [
    {
      "cell_type": "code",
      "metadata": {
        "colab": {
          "base_uri": "https://localhost:8080/",
          "height": 1000
        },
        "id": "vffOdgYUYCj4",
        "outputId": "77b6d0af-442d-49dd-994a-ae6552a338d7"
      },
      "source": [
        "import torch\n",
        "import torch.nn as nn\n",
        "from torch.nn.functional import relu\n",
        "from torch.autograd import Variable\n",
        "device = torch.device(\"cuda:0\" if torch.cuda.is_available() else \"cpu\")\n",
        "import numpy as np\n",
        "import matplotlib.pyplot as plt\n",
        "\n",
        "\n",
        "class Net(nn.Module):\n",
        "    def __init__(self):\n",
        "        super(Net, self).__init__()\n",
        "        self.regressor = nn.Sequential(nn.Linear(1, 1024),\n",
        "                                       nn.LeakyReLU(inplace=True),\n",
        "                                       nn.Linear(1024, 1024),\n",
        "                                       nn.LeakyReLU(inplace=True),\n",
        "                                       nn.Linear(1024, 1024),\n",
        "                                       nn.LeakyReLU(inplace=True),\n",
        "                                       nn.Linear(1024, 1024),\n",
        "                                       nn.LeakyReLU(inplace=True),\n",
        "                                       nn.Linear(1024, 1024),\n",
        "                                       nn.LeakyReLU(inplace=True),\n",
        "                                       nn.Linear(1024, 2))\n",
        "    def forward(self, x):\n",
        "        output = self.regressor(x)\n",
        "        return output\n",
        "\n",
        "\n",
        "def init_weights(m):\n",
        "    if isinstance(m, nn.Linear):\n",
        "        torch.nn.init.xavier_uniform_(m.weight)\n",
        "\n",
        "LEARNING_RATE = 1e-5\n",
        "MU = 1; # For Van der Pol equation\n",
        "TRAIN_LIM = 10*MU\n",
        "COL_RES = 500\n",
        "EPOCHS = 5000\n",
        "\n",
        "#Boundary Conditions\n",
        "t_bc = np.array([[0]])\n",
        "x_bc = np.array([[2,0]])\n",
        "\n",
        "# Points and weight boundary vs ODE Loss\n",
        "col_points = int(TRAIN_LIM*COL_RES)\n",
        "boundary_points = len(x_bc)\n",
        "\n",
        "F_WEIGHT = 1 #Physics Weight\n",
        "B_WEIGHT = 1/(10*(boundary_points+col_points)) #Boundary Weight\n",
        "\n",
        "\n",
        "#Define Net, apply to device and init weights\n",
        "net = Net()\n",
        "net = net.to(device)\n",
        "net.apply(init_weights)\n",
        "\n",
        "\n",
        "#Define Criteria\n",
        "criterion = torch.nn.MSELoss() # Mean squared error\n",
        "optimizer = torch.optim.Adam(net.parameters(),lr = LEARNING_RATE)\n",
        "\n",
        "\n",
        "#ODE Driven loss function\n",
        "def f(t,mu,net):\n",
        "    x = net(t) \n",
        "    x1 = x[:,0]\n",
        "    x2 = x[:,1]\n",
        "    ## Van der Pol Equation\n",
        "    x1_t = torch.autograd.grad(x1.sum(), t, create_graph=True)[0]\n",
        "    x2_t = torch.autograd.grad(x2.sum(), t, create_graph=True)[0]\n",
        "    ode1 = x1_t-x2\n",
        "    ode2 = mu*(1-x1**2)*x2-x1-x2_t\n",
        "    return ode1,ode2\n",
        "\n",
        "def lossCalc(mse_u,mse_f,bp,cp,f_weight,b_weight,epoch = -1,beta = 1,betaLim = 1):\n",
        "    #Function to combine loss from boundary and ODE or PDE\n",
        "    if epoch*beta > betaLim or epoch == -1:\n",
        "        loss = (b_weight*mse_u)/bp + (f_weight*mse_f/cp)\n",
        "        epochBeta = betaLim\n",
        "    else:\n",
        "        loss = (b_weight*mse_u)/bp + (f_weight*mse_f/cp)*epoch*beta\n",
        "        epochBeta = epoch*beta\n",
        "    \n",
        "    return loss,epochBeta\n",
        "\n",
        "\n",
        "for epoch in range(EPOCHS):\n",
        "    optimizer.zero_grad() # to make the gradients zero\n",
        "    \n",
        "    # Loss based on boundary conditions\n",
        "    pt_t_bc = Variable(torch.from_numpy(t_bc).float(), requires_grad=False).to(device)\n",
        "    pt_x_bc = Variable(torch.from_numpy(x_bc).float(), requires_grad=False).to(device)\n",
        "    \n",
        "    net_bc_out = net(pt_t_bc) # output of u(x,t)\n",
        "    mse_u = criterion(input = net_bc_out, target = pt_x_bc)\n",
        "\n",
        "    # Loss based on PDE\n",
        "    t_collocation = np.random.uniform(low=0.0, high=TRAIN_LIM, size=(col_points,1))\n",
        "    all_zeros = np.zeros((col_points,1))\n",
        "    \n",
        "    \n",
        "    pt_t_collocation = Variable(torch.from_numpy(t_collocation).float(), requires_grad=True).to(device)\n",
        "    pt_all_zeros = Variable(torch.from_numpy(all_zeros).float(), requires_grad=False).to(device)\n",
        "    \n",
        "    ode1,ode2 = f(pt_t_collocation,MU,net) # output of f(x,t)\n",
        "    mse_f = criterion(input = ode1, target = pt_all_zeros)+criterion(input = ode2, target = pt_all_zeros)\n",
        "    \n",
        "    # Combining the loss functions\n",
        "    loss,epochBeta = lossCalc(mse_u,mse_f,boundary_points,col_points,F_WEIGHT,B_WEIGHT)\n",
        "    \n",
        "    loss.backward() \n",
        "    optimizer.step() \n",
        "\n",
        "    with torch.autograd.no_grad():\n",
        "        if epoch%100 == 0:\n",
        "            print('Epoch:',epoch,\"Traning Loss:\",loss.data,'epochBeta:',epochBeta)\n",
        "            print('Boundary Loss:',mse_u/boundary_points,'ODE Loss: ',mse_f/col_points)\n",
        "        \n",
        "\n",
        "## Plot of solution within trained bounds\n",
        "n = 1000\n",
        "T_test = torch.linspace(0,TRAIN_LIM,n,requires_grad=True).to(device)\n",
        "T_test = T_test.reshape(n,1)\n",
        "\n",
        "score = net(T_test) \n",
        "\n",
        "x1_plot = score[:,0].cpu().detach().numpy()\n",
        "x2_plot = score[:,1].cpu().detach().numpy()\n",
        "\n",
        "T_plot = torch.linspace(0,TRAIN_LIM,n,requires_grad=False)\n",
        "T_plot = T_test.reshape(n,1)\n",
        "T_plot = T_plot.cpu().detach().numpy()\n",
        "\n",
        "ode1_residual,ode2_residual = f(T_test,MU,net)\n",
        "ode1_residual = ode1_residual[:,0].cpu().detach().numpy()\n",
        "ode2_residual = ode2_residual[:,1].cpu().detach().numpy()\n",
        "\n",
        "plt.figure()\n",
        "plt.scatter(T_plot,x1_plot)\n",
        "plt.title('Network Solution of x1')\n",
        "plt.xlabel('t')\n",
        "plt.ylabel('X1')\n",
        "plt.legend()\n",
        "\n",
        "\n",
        "plt.figure()\n",
        "plt.scatter(T_plot,x2_plot)\n",
        "plt.title('Network Solution of x2')\n",
        "plt.xlabel('t')\n",
        "plt.ylabel('X2')\n",
        "plt.legend()\n",
        "\n",
        "\n",
        "plt.figure()\n",
        "plt.scatter(x1_plot,x2_plot)\n",
        "plt.xlabel('x1')\n",
        "plt.xlabel('x2')\n",
        "plt.legend()\n",
        "\n",
        "\n",
        "plt.figure()\n",
        "plt.title('Residual plots of ODE1')\n",
        "plt.scatter(T_plot,ode1_residual)\n",
        "\n",
        "\n",
        "plt.figure()\n",
        "plt.title('Residual plots of ODE2')\n",
        "plt.scatter(T_plot,ode2_residual)\n",
        "\n",
        "\n",
        "\n",
        "\n"
      ],
      "execution_count": 4,
      "outputs": [
        {
          "output_type": "stream",
          "name": "stderr",
          "text": [
            "No handles with labels found to put in legend.\n",
            "No handles with labels found to put in legend.\n",
            "No handles with labels found to put in legend.\n"
          ]
        },
        {
          "output_type": "execute_result",
          "data": {
            "text/plain": [
              "<matplotlib.collections.PathCollection at 0x7f5dca45a0d0>"
            ]
          },
          "metadata": {},
          "execution_count": 4
        },
        {
          "output_type": "display_data",
          "data": {
            "image/png": "[encoded data removed]",
            "text/plain": [
              "<Figure size 432x288 with 1 Axes>"
            ]
          },
          "metadata": {
            "needs_background": "light"
          }
        },
        {
          "output_type": "display_data",
          "data": {
            "image/png": "[encoded data removed]",
            "text/plain": [
              "<Figure size 432x288 with 1 Axes>"
            ]
          },
          "metadata": {
            "needs_background": "light"
          }
        },
        {
          "output_type": "display_data",
          "data": {
            "image/png": "[encoded data removed]",
            "text/plain": [
              "<Figure size 432x288 with 1 Axes>"
            ]
          },
          "metadata": {
            "needs_background": "light"
          }
        },
        {
          "output_type": "display_data",
          "data": {
            "image/png": "[encoded data removed]",
            "text/plain": [
              "<Figure size 432x288 with 1 Axes>"
            ]
          },
          "metadata": {
            "needs_background": "light"
          }
        }
      ]
    }
  ]
}